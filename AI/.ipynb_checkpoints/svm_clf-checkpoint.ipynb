{
 "cells": [
  {
   "cell_type": "code",
   "execution_count": 2,
   "metadata": {},
   "outputs": [
    {
     "data": {
      "text/html": [
       "<div>\n",
       "<style scoped>\n",
       "    .dataframe tbody tr th:only-of-type {\n",
       "        vertical-align: middle;\n",
       "    }\n",
       "\n",
       "    .dataframe tbody tr th {\n",
       "        vertical-align: top;\n",
       "    }\n",
       "\n",
       "    .dataframe thead th {\n",
       "        text-align: right;\n",
       "    }\n",
       "</style>\n",
       "<table border=\"1\" class=\"dataframe\">\n",
       "  <thead>\n",
       "    <tr style=\"text-align: right;\">\n",
       "      <th></th>\n",
       "      <th>label</th>\n",
       "      <th>sentence</th>\n",
       "    </tr>\n",
       "  </thead>\n",
       "  <tbody>\n",
       "    <tr>\n",
       "      <th>0</th>\n",
       "      <td>1</td>\n",
       "      <td>서울시  외국어 관광안내판 오류 224건 …내달까지 시정</td>\n",
       "    </tr>\n",
       "    <tr>\n",
       "      <th>1</th>\n",
       "      <td>1</td>\n",
       "      <td>서울시는 관광특구의 외국어 관광안내 표지판을 점검한 결과 영문 79건 중문 40건 ...</td>\n",
       "    </tr>\n",
       "    <tr>\n",
       "      <th>2</th>\n",
       "      <td>1</td>\n",
       "      <td>부산시 지역기업 외국어 디지털 콘텐츠 제작 지원</td>\n",
       "    </tr>\n",
       "    <tr>\n",
       "      <th>3</th>\n",
       "      <td>1</td>\n",
       "      <td>부산에 있는 디지털 헬스케어 관련 기업을 대상으로 하며 외국어 홍보 동영상·전자 카...</td>\n",
       "    </tr>\n",
       "    <tr>\n",
       "      <th>4</th>\n",
       "      <td>1</td>\n",
       "      <td>부산시 지역기업 위해 외국어 디지털 콘텐츠 제작 지원</td>\n",
       "    </tr>\n",
       "  </tbody>\n",
       "</table>\n",
       "</div>"
      ],
      "text/plain": [
       "   label                                           sentence\n",
       "0      1                    서울시  외국어 관광안내판 오류 224건 …내달까지 시정\n",
       "1      1  서울시는 관광특구의 외국어 관광안내 표지판을 점검한 결과 영문 79건 중문 40건 ...\n",
       "2      1                         부산시 지역기업 외국어 디지털 콘텐츠 제작 지원\n",
       "3      1  부산에 있는 디지털 헬스케어 관련 기업을 대상으로 하며 외국어 홍보 동영상·전자 카...\n",
       "4      1                      부산시 지역기업 위해 외국어 디지털 콘텐츠 제작 지원"
      ]
     },
     "execution_count": 2,
     "metadata": {},
     "output_type": "execute_result"
    }
   ],
   "source": [
    "import os\n",
    "import pandas as pd\n",
    "\n",
    "ability_1 = pd.read_csv(\"global.csv\", encoding=\"utf-8\")\n",
    "ability_2 = pd.read_csv(\"active.csv\", encoding=\"utf-8\")\n",
    "ability_3 = pd.read_csv(\"challenge.csv\", encoding=\"utf-8\")\n",
    "ability_4 = pd.read_csv(\"sincerity.csv\", encoding=\"utf-8\")\n",
    "ability_5 = pd.read_csv(\"communication.csv\", encoding=\"utf-8\")\n",
    "ability_6 = pd.read_csv(\"patience.csv\", encoding=\"utf-8\")\n",
    "ability_7 = pd.read_csv(\"honest.csv\", encoding=\"utf-8\")\n",
    "ability_8 = pd.read_csv(\"owner_spirit.csv\", encoding=\"utf-8\")\n",
    "ability_9 = pd.read_csv(\"creativity.csv\", encoding=\"utf-8\")\n",
    "ability_10 = pd.read_csv(\"teamwork.csv\", encoding=\"utf-8\")\n",
    "\n",
    "ability_1.head()"
   ]
  },
  {
   "cell_type": "code",
   "execution_count": 3,
   "metadata": {},
   "outputs": [
    {
     "data": {
      "text/html": [
       "<div>\n",
       "<style scoped>\n",
       "    .dataframe tbody tr th:only-of-type {\n",
       "        vertical-align: middle;\n",
       "    }\n",
       "\n",
       "    .dataframe tbody tr th {\n",
       "        vertical-align: top;\n",
       "    }\n",
       "\n",
       "    .dataframe thead th {\n",
       "        text-align: right;\n",
       "    }\n",
       "</style>\n",
       "<table border=\"1\" class=\"dataframe\">\n",
       "  <thead>\n",
       "    <tr style=\"text-align: right;\">\n",
       "      <th></th>\n",
       "      <th>label</th>\n",
       "      <th>sentence</th>\n",
       "    </tr>\n",
       "  </thead>\n",
       "  <tbody>\n",
       "    <tr>\n",
       "      <th>0</th>\n",
       "      <td>2</td>\n",
       "      <td>양향자  광주국세청 더 적극적으로 세정지원 펼쳐야</td>\n",
       "    </tr>\n",
       "    <tr>\n",
       "      <th>1</th>\n",
       "      <td>2</td>\n",
       "      <td>양향자 의원은 “올해는 코로나19와 폭우 등으로 인해 지역 기업들이 큰 타격을 입었...</td>\n",
       "    </tr>\n",
       "    <tr>\n",
       "      <th>2</th>\n",
       "      <td>2</td>\n",
       "      <td>윤갑근  김진애 의원 민·형사 소송 제기 적극적 검토</td>\n",
       "    </tr>\n",
       "    <tr>\n",
       "      <th>3</th>\n",
       "      <td>2</td>\n",
       "      <td>제기를 적극적으로 검토하고 있다고 밝혔다. 윤 위원장은 이날 입장문을 내고  어제(...</td>\n",
       "    </tr>\n",
       "    <tr>\n",
       "      <th>4</th>\n",
       "      <td>2</td>\n",
       "      <td>'파트너' 김호중 스태프로 깜짝 변신…적극적으로 파트너 찾기 나서</td>\n",
       "    </tr>\n",
       "  </tbody>\n",
       "</table>\n",
       "</div>"
      ],
      "text/plain": [
       "   label                                           sentence\n",
       "0      2                       양향자  광주국세청 더 적극적으로 세정지원 펼쳐야 \n",
       "1      2  양향자 의원은 “올해는 코로나19와 폭우 등으로 인해 지역 기업들이 큰 타격을 입었...\n",
       "2      2                     윤갑근  김진애 의원 민·형사 소송 제기 적극적 검토 \n",
       "3      2  제기를 적극적으로 검토하고 있다고 밝혔다. 윤 위원장은 이날 입장문을 내고  어제(...\n",
       "4      2               '파트너' 김호중 스태프로 깜짝 변신…적극적으로 파트너 찾기 나서"
      ]
     },
     "execution_count": 3,
     "metadata": {},
     "output_type": "execute_result"
    }
   ],
   "source": [
    "ability_2.head()"
   ]
  },
  {
   "cell_type": "code",
   "execution_count": 4,
   "metadata": {},
   "outputs": [
    {
     "data": {
      "text/html": [
       "<div>\n",
       "<style scoped>\n",
       "    .dataframe tbody tr th:only-of-type {\n",
       "        vertical-align: middle;\n",
       "    }\n",
       "\n",
       "    .dataframe tbody tr th {\n",
       "        vertical-align: top;\n",
       "    }\n",
       "\n",
       "    .dataframe thead th {\n",
       "        text-align: right;\n",
       "    }\n",
       "</style>\n",
       "<table border=\"1\" class=\"dataframe\">\n",
       "  <thead>\n",
       "    <tr style=\"text-align: right;\">\n",
       "      <th></th>\n",
       "      <th>label</th>\n",
       "      <th>sentence</th>\n",
       "    </tr>\n",
       "  </thead>\n",
       "  <tbody>\n",
       "    <tr>\n",
       "      <th>0</th>\n",
       "      <td>3</td>\n",
       "      <td>[SC현장]  쉬어갈 수 있는 용기 …세븐틴표 청춘응원 글로벌 '홈런'예고(종합)</td>\n",
       "    </tr>\n",
       "    <tr>\n",
       "      <th>1</th>\n",
       "      <td>3</td>\n",
       "      <td>청춘들이 한번쯤 느꼈을 법한 생각들은 이시대를 함께 살아가는 우리 역시 경험한 부분...</td>\n",
       "    </tr>\n",
       "    <tr>\n",
       "      <th>2</th>\n",
       "      <td>3</td>\n",
       "      <td>혼돈·좌절·용기·희망  … 전세계 코로나19 현장사진 120점 전시</td>\n",
       "    </tr>\n",
       "    <tr>\n",
       "      <th>3</th>\n",
       "      <td>3</td>\n",
       "      <td>혼돈과 고통이 뒤섞인 세계 각국의 현장은 물론 코로나19에 맞서 고군분투하며 용기 ...</td>\n",
       "    </tr>\n",
       "    <tr>\n",
       "      <th>4</th>\n",
       "      <td>3</td>\n",
       "      <td>“쓰레기 산 줄이려면 다회 용기 만들어 쓰자”</td>\n",
       "    </tr>\n",
       "  </tbody>\n",
       "</table>\n",
       "</div>"
      ],
      "text/plain": [
       "   label                                           sentence\n",
       "0      3      [SC현장]  쉬어갈 수 있는 용기 …세븐틴표 청춘응원 글로벌 '홈런'예고(종합)\n",
       "1      3  청춘들이 한번쯤 느꼈을 법한 생각들은 이시대를 함께 살아가는 우리 역시 경험한 부분...\n",
       "2      3              혼돈·좌절·용기·희망  … 전세계 코로나19 현장사진 120점 전시\n",
       "3      3  혼돈과 고통이 뒤섞인 세계 각국의 현장은 물론 코로나19에 맞서 고군분투하며 용기 ...\n",
       "4      3                          “쓰레기 산 줄이려면 다회 용기 만들어 쓰자”"
      ]
     },
     "execution_count": 4,
     "metadata": {},
     "output_type": "execute_result"
    }
   ],
   "source": [
    "ability_3.head()"
   ]
  },
  {
   "cell_type": "code",
   "execution_count": 5,
   "metadata": {},
   "outputs": [
    {
     "data": {
      "text/html": [
       "<div>\n",
       "<style scoped>\n",
       "    .dataframe tbody tr th:only-of-type {\n",
       "        vertical-align: middle;\n",
       "    }\n",
       "\n",
       "    .dataframe tbody tr th {\n",
       "        vertical-align: top;\n",
       "    }\n",
       "\n",
       "    .dataframe thead th {\n",
       "        text-align: right;\n",
       "    }\n",
       "</style>\n",
       "<table border=\"1\" class=\"dataframe\">\n",
       "  <thead>\n",
       "    <tr style=\"text-align: right;\">\n",
       "      <th></th>\n",
       "      <th>sentence</th>\n",
       "      <th>label</th>\n",
       "    </tr>\n",
       "  </thead>\n",
       "  <tbody>\n",
       "    <tr>\n",
       "      <th>0</th>\n",
       "      <td>서울시  외국어 관광안내판 오류 224건 …내달까지 시정</td>\n",
       "      <td>1</td>\n",
       "    </tr>\n",
       "    <tr>\n",
       "      <th>1</th>\n",
       "      <td>서울시는 관광특구의 외국어 관광안내 표지판을 점검한 결과 영문 79건 중문 40건 ...</td>\n",
       "      <td>1</td>\n",
       "    </tr>\n",
       "    <tr>\n",
       "      <th>2</th>\n",
       "      <td>부산시 지역기업 외국어 디지털 콘텐츠 제작 지원</td>\n",
       "      <td>1</td>\n",
       "    </tr>\n",
       "    <tr>\n",
       "      <th>3</th>\n",
       "      <td>부산에 있는 디지털 헬스케어 관련 기업을 대상으로 하며 외국어 홍보 동영상·전자 카...</td>\n",
       "      <td>1</td>\n",
       "    </tr>\n",
       "    <tr>\n",
       "      <th>4</th>\n",
       "      <td>부산시 지역기업 위해 외국어 디지털 콘텐츠 제작 지원</td>\n",
       "      <td>1</td>\n",
       "    </tr>\n",
       "  </tbody>\n",
       "</table>\n",
       "</div>"
      ],
      "text/plain": [
       "                                            sentence  label\n",
       "0                    서울시  외국어 관광안내판 오류 224건 …내달까지 시정      1\n",
       "1  서울시는 관광특구의 외국어 관광안내 표지판을 점검한 결과 영문 79건 중문 40건 ...      1\n",
       "2                         부산시 지역기업 외국어 디지털 콘텐츠 제작 지원      1\n",
       "3  부산에 있는 디지털 헬스케어 관련 기업을 대상으로 하며 외국어 홍보 동영상·전자 카...      1\n",
       "4                      부산시 지역기업 위해 외국어 디지털 콘텐츠 제작 지원      1"
      ]
     },
     "execution_count": 5,
     "metadata": {},
     "output_type": "execute_result"
    }
   ],
   "source": [
    "a1 = pd.DataFrame(ability_1[\"sentence\"])\n",
    "a1[\"label\"] = 1\n",
    "a1.head()"
   ]
  },
  {
   "cell_type": "code",
   "execution_count": 6,
   "metadata": {},
   "outputs": [
    {
     "data": {
      "text/html": [
       "<div>\n",
       "<style scoped>\n",
       "    .dataframe tbody tr th:only-of-type {\n",
       "        vertical-align: middle;\n",
       "    }\n",
       "\n",
       "    .dataframe tbody tr th {\n",
       "        vertical-align: top;\n",
       "    }\n",
       "\n",
       "    .dataframe thead th {\n",
       "        text-align: right;\n",
       "    }\n",
       "</style>\n",
       "<table border=\"1\" class=\"dataframe\">\n",
       "  <thead>\n",
       "    <tr style=\"text-align: right;\">\n",
       "      <th></th>\n",
       "      <th>sentence</th>\n",
       "      <th>label</th>\n",
       "    </tr>\n",
       "  </thead>\n",
       "  <tbody>\n",
       "    <tr>\n",
       "      <th>0</th>\n",
       "      <td>양향자  광주국세청 더 적극적으로 세정지원 펼쳐야</td>\n",
       "      <td>2</td>\n",
       "    </tr>\n",
       "    <tr>\n",
       "      <th>1</th>\n",
       "      <td>양향자 의원은 “올해는 코로나19와 폭우 등으로 인해 지역 기업들이 큰 타격을 입었...</td>\n",
       "      <td>2</td>\n",
       "    </tr>\n",
       "    <tr>\n",
       "      <th>2</th>\n",
       "      <td>윤갑근  김진애 의원 민·형사 소송 제기 적극적 검토</td>\n",
       "      <td>2</td>\n",
       "    </tr>\n",
       "    <tr>\n",
       "      <th>3</th>\n",
       "      <td>제기를 적극적으로 검토하고 있다고 밝혔다. 윤 위원장은 이날 입장문을 내고  어제(...</td>\n",
       "      <td>2</td>\n",
       "    </tr>\n",
       "    <tr>\n",
       "      <th>4</th>\n",
       "      <td>'파트너' 김호중 스태프로 깜짝 변신…적극적으로 파트너 찾기 나서</td>\n",
       "      <td>2</td>\n",
       "    </tr>\n",
       "  </tbody>\n",
       "</table>\n",
       "</div>"
      ],
      "text/plain": [
       "                                            sentence  label\n",
       "0                       양향자  광주국세청 더 적극적으로 세정지원 펼쳐야       2\n",
       "1  양향자 의원은 “올해는 코로나19와 폭우 등으로 인해 지역 기업들이 큰 타격을 입었...      2\n",
       "2                     윤갑근  김진애 의원 민·형사 소송 제기 적극적 검토       2\n",
       "3  제기를 적극적으로 검토하고 있다고 밝혔다. 윤 위원장은 이날 입장문을 내고  어제(...      2\n",
       "4               '파트너' 김호중 스태프로 깜짝 변신…적극적으로 파트너 찾기 나서      2"
      ]
     },
     "execution_count": 6,
     "metadata": {},
     "output_type": "execute_result"
    }
   ],
   "source": [
    "a2 = pd.DataFrame(ability_2[\"sentence\"])\n",
    "a2[\"label\"] = 2\n",
    "a2.head()"
   ]
  },
  {
   "cell_type": "code",
   "execution_count": 7,
   "metadata": {},
   "outputs": [
    {
     "data": {
      "text/html": [
       "<div>\n",
       "<style scoped>\n",
       "    .dataframe tbody tr th:only-of-type {\n",
       "        vertical-align: middle;\n",
       "    }\n",
       "\n",
       "    .dataframe tbody tr th {\n",
       "        vertical-align: top;\n",
       "    }\n",
       "\n",
       "    .dataframe thead th {\n",
       "        text-align: right;\n",
       "    }\n",
       "</style>\n",
       "<table border=\"1\" class=\"dataframe\">\n",
       "  <thead>\n",
       "    <tr style=\"text-align: right;\">\n",
       "      <th></th>\n",
       "      <th>sentence</th>\n",
       "      <th>label</th>\n",
       "    </tr>\n",
       "  </thead>\n",
       "  <tbody>\n",
       "    <tr>\n",
       "      <th>0</th>\n",
       "      <td>[SC현장]  쉬어갈 수 있는 용기 …세븐틴표 청춘응원 글로벌 '홈런'예고(종합)</td>\n",
       "      <td>3</td>\n",
       "    </tr>\n",
       "    <tr>\n",
       "      <th>1</th>\n",
       "      <td>청춘들이 한번쯤 느꼈을 법한 생각들은 이시대를 함께 살아가는 우리 역시 경험한 부분...</td>\n",
       "      <td>3</td>\n",
       "    </tr>\n",
       "    <tr>\n",
       "      <th>2</th>\n",
       "      <td>혼돈·좌절·용기·희망  … 전세계 코로나19 현장사진 120점 전시</td>\n",
       "      <td>3</td>\n",
       "    </tr>\n",
       "    <tr>\n",
       "      <th>3</th>\n",
       "      <td>혼돈과 고통이 뒤섞인 세계 각국의 현장은 물론 코로나19에 맞서 고군분투하며 용기 ...</td>\n",
       "      <td>3</td>\n",
       "    </tr>\n",
       "    <tr>\n",
       "      <th>4</th>\n",
       "      <td>“쓰레기 산 줄이려면 다회 용기 만들어 쓰자”</td>\n",
       "      <td>3</td>\n",
       "    </tr>\n",
       "  </tbody>\n",
       "</table>\n",
       "</div>"
      ],
      "text/plain": [
       "                                            sentence  label\n",
       "0      [SC현장]  쉬어갈 수 있는 용기 …세븐틴표 청춘응원 글로벌 '홈런'예고(종합)      3\n",
       "1  청춘들이 한번쯤 느꼈을 법한 생각들은 이시대를 함께 살아가는 우리 역시 경험한 부분...      3\n",
       "2              혼돈·좌절·용기·희망  … 전세계 코로나19 현장사진 120점 전시      3\n",
       "3  혼돈과 고통이 뒤섞인 세계 각국의 현장은 물론 코로나19에 맞서 고군분투하며 용기 ...      3\n",
       "4                          “쓰레기 산 줄이려면 다회 용기 만들어 쓰자”      3"
      ]
     },
     "execution_count": 7,
     "metadata": {},
     "output_type": "execute_result"
    }
   ],
   "source": [
    "a3 = pd.DataFrame(ability_3[\"sentence\"])\n",
    "a3[\"label\"] = 3\n",
    "a3.head()"
   ]
  },
  {
   "cell_type": "code",
   "execution_count": 8,
   "metadata": {},
   "outputs": [
    {
     "data": {
      "text/html": [
       "<div>\n",
       "<style scoped>\n",
       "    .dataframe tbody tr th:only-of-type {\n",
       "        vertical-align: middle;\n",
       "    }\n",
       "\n",
       "    .dataframe tbody tr th {\n",
       "        vertical-align: top;\n",
       "    }\n",
       "\n",
       "    .dataframe thead th {\n",
       "        text-align: right;\n",
       "    }\n",
       "</style>\n",
       "<table border=\"1\" class=\"dataframe\">\n",
       "  <thead>\n",
       "    <tr style=\"text-align: right;\">\n",
       "      <th></th>\n",
       "      <th>sentence</th>\n",
       "      <th>label</th>\n",
       "    </tr>\n",
       "  </thead>\n",
       "  <tbody>\n",
       "    <tr>\n",
       "      <th>0</th>\n",
       "      <td>당론에 충실한 이재명  옵티머스 연루? 그래서 공수처 필요</td>\n",
       "      <td>4</td>\n",
       "    </tr>\n",
       "    <tr>\n",
       "      <th>1</th>\n",
       "      <td>이재명 경기도지사(사진)는 19일 자신과 옵티머스자산운용 사기 사건 연루를 주장하는...</td>\n",
       "      <td>4</td>\n",
       "    </tr>\n",
       "    <tr>\n",
       "      <th>2</th>\n",
       "      <td>[편집장 레터] “그냥 家業에나 충실할 걸…”</td>\n",
       "      <td>4</td>\n",
       "    </tr>\n",
       "    <tr>\n",
       "      <th>3</th>\n",
       "      <td>그냥 가업에나 충실할 걸 그랬다.” K대표의 후회 담긴 토로가 가볍게 들리지 않습니...</td>\n",
       "      <td>4</td>\n",
       "    </tr>\n",
       "    <tr>\n",
       "      <th>4</th>\n",
       "      <td>박영선 “서울시장 출마? 아직 제 직분에 충실…생각 안해봐”</td>\n",
       "      <td>4</td>\n",
       "    </tr>\n",
       "  </tbody>\n",
       "</table>\n",
       "</div>"
      ],
      "text/plain": [
       "                                            sentence  label\n",
       "0                  당론에 충실한 이재명  옵티머스 연루? 그래서 공수처 필요       4\n",
       "1  이재명 경기도지사(사진)는 19일 자신과 옵티머스자산운용 사기 사건 연루를 주장하는...      4\n",
       "2                          [편집장 레터] “그냥 家業에나 충실할 걸…”      4\n",
       "3  그냥 가업에나 충실할 걸 그랬다.” K대표의 후회 담긴 토로가 가볍게 들리지 않습니...      4\n",
       "4                  박영선 “서울시장 출마? 아직 제 직분에 충실…생각 안해봐”      4"
      ]
     },
     "execution_count": 8,
     "metadata": {},
     "output_type": "execute_result"
    }
   ],
   "source": [
    "a4 = pd.DataFrame(ability_4[\"sentence\"])\n",
    "a4[\"label\"] = 4\n",
    "a4.head()"
   ]
  },
  {
   "cell_type": "code",
   "execution_count": 9,
   "metadata": {},
   "outputs": [
    {
     "data": {
      "text/html": [
       "<div>\n",
       "<style scoped>\n",
       "    .dataframe tbody tr th:only-of-type {\n",
       "        vertical-align: middle;\n",
       "    }\n",
       "\n",
       "    .dataframe tbody tr th {\n",
       "        vertical-align: top;\n",
       "    }\n",
       "\n",
       "    .dataframe thead th {\n",
       "        text-align: right;\n",
       "    }\n",
       "</style>\n",
       "<table border=\"1\" class=\"dataframe\">\n",
       "  <thead>\n",
       "    <tr style=\"text-align: right;\">\n",
       "      <th></th>\n",
       "      <th>sentence</th>\n",
       "      <th>label</th>\n",
       "    </tr>\n",
       "  </thead>\n",
       "  <tbody>\n",
       "    <tr>\n",
       "      <th>0</th>\n",
       "      <td>한·덴마크 의약품 임상시험 정보 교류 강화</td>\n",
       "      <td>5</td>\n",
       "    </tr>\n",
       "    <tr>\n",
       "      <th>1</th>\n",
       "      <td>식품의약품안전처는 덴마크 의약품청과 임상시험 분야 발전방안을 논의하고 정보교류 등 ...</td>\n",
       "      <td>5</td>\n",
       "    </tr>\n",
       "    <tr>\n",
       "      <th>2</th>\n",
       "      <td>국감 출석한 이근 한국국제교류재단이사장</td>\n",
       "      <td>5</td>\n",
       "    </tr>\n",
       "    <tr>\n",
       "      <th>3</th>\n",
       "      <td>이근 한국국제교류재단 이사장이 19일 오전 서울 여의도 국회 외교통일위원회에서 열린...</td>\n",
       "      <td>5</td>\n",
       "    </tr>\n",
       "    <tr>\n",
       "      <th>4</th>\n",
       "      <td>안산시-전남 고흥군 상생우호교류 협약체결</td>\n",
       "      <td>5</td>\n",
       "    </tr>\n",
       "  </tbody>\n",
       "</table>\n",
       "</div>"
      ],
      "text/plain": [
       "                                            sentence  label\n",
       "0                            한·덴마크 의약품 임상시험 정보 교류 강화      5\n",
       "1  식품의약품안전처는 덴마크 의약품청과 임상시험 분야 발전방안을 논의하고 정보교류 등 ...      5\n",
       "2                              국감 출석한 이근 한국국제교류재단이사장      5\n",
       "3  이근 한국국제교류재단 이사장이 19일 오전 서울 여의도 국회 외교통일위원회에서 열린...      5\n",
       "4                             안산시-전남 고흥군 상생우호교류 협약체결      5"
      ]
     },
     "execution_count": 9,
     "metadata": {},
     "output_type": "execute_result"
    }
   ],
   "source": [
    "a5 = pd.DataFrame(ability_5[\"sentence\"])\n",
    "a5[\"label\"] = 5\n",
    "a5.head()"
   ]
  },
  {
   "cell_type": "code",
   "execution_count": 10,
   "metadata": {},
   "outputs": [
    {
     "data": {
      "text/html": [
       "<div>\n",
       "<style scoped>\n",
       "    .dataframe tbody tr th:only-of-type {\n",
       "        vertical-align: middle;\n",
       "    }\n",
       "\n",
       "    .dataframe tbody tr th {\n",
       "        vertical-align: top;\n",
       "    }\n",
       "\n",
       "    .dataframe thead th {\n",
       "        text-align: right;\n",
       "    }\n",
       "</style>\n",
       "<table border=\"1\" class=\"dataframe\">\n",
       "  <thead>\n",
       "    <tr style=\"text-align: right;\">\n",
       "      <th></th>\n",
       "      <th>sentence</th>\n",
       "      <th>label</th>\n",
       "    </tr>\n",
       "  </thead>\n",
       "  <tbody>\n",
       "    <tr>\n",
       "      <th>0</th>\n",
       "      <td>[황승연 칼럼] 한국인의 거짓말과 뿌리 깊은 노비근성</td>\n",
       "      <td>6</td>\n",
       "    </tr>\n",
       "    <tr>\n",
       "      <th>1</th>\n",
       "      <td>조선왕조가 500년을 이어오면서 왕조의 존립을 위해 지속시켰던 노비제도는 뿌리 깊은...</td>\n",
       "      <td>6</td>\n",
       "    </tr>\n",
       "    <tr>\n",
       "      <th>2</th>\n",
       "      <td>“난 근성작가 김성모”… 더 이상의 자세한 설명은 생략한다</td>\n",
       "      <td>6</td>\n",
       "    </tr>\n",
       "    <tr>\n",
       "      <th>3</th>\n",
       "      <td>“나는 근성작가” 만화가 김성모 “더 이상의 자세한 설명은 생략한다.” 만화가 김성...</td>\n",
       "      <td>6</td>\n",
       "    </tr>\n",
       "    <tr>\n",
       "      <th>4</th>\n",
       "      <td>'갬성캠핑' 박나래→박소담 근성캠핑 OPEN! 송승헌 '샤인머쓱햇' 부캐 획득 [종합]</td>\n",
       "      <td>6</td>\n",
       "    </tr>\n",
       "  </tbody>\n",
       "</table>\n",
       "</div>"
      ],
      "text/plain": [
       "                                            sentence  label\n",
       "0                      [황승연 칼럼] 한국인의 거짓말과 뿌리 깊은 노비근성      6\n",
       "1  조선왕조가 500년을 이어오면서 왕조의 존립을 위해 지속시켰던 노비제도는 뿌리 깊은...      6\n",
       "2                   “난 근성작가 김성모”… 더 이상의 자세한 설명은 생략한다      6\n",
       "3  “나는 근성작가” 만화가 김성모 “더 이상의 자세한 설명은 생략한다.” 만화가 김성...      6\n",
       "4   '갬성캠핑' 박나래→박소담 근성캠핑 OPEN! 송승헌 '샤인머쓱햇' 부캐 획득 [종합]      6"
      ]
     },
     "execution_count": 10,
     "metadata": {},
     "output_type": "execute_result"
    }
   ],
   "source": [
    "a6 = pd.DataFrame(ability_6[\"sentence\"])\n",
    "a6[\"label\"] = 6\n",
    "a6.head()"
   ]
  },
  {
   "cell_type": "code",
   "execution_count": 11,
   "metadata": {},
   "outputs": [
    {
     "data": {
      "text/html": [
       "<div>\n",
       "<style scoped>\n",
       "    .dataframe tbody tr th:only-of-type {\n",
       "        vertical-align: middle;\n",
       "    }\n",
       "\n",
       "    .dataframe tbody tr th {\n",
       "        vertical-align: top;\n",
       "    }\n",
       "\n",
       "    .dataframe thead th {\n",
       "        text-align: right;\n",
       "    }\n",
       "</style>\n",
       "<table border=\"1\" class=\"dataframe\">\n",
       "  <thead>\n",
       "    <tr style=\"text-align: right;\">\n",
       "      <th></th>\n",
       "      <th>sentence</th>\n",
       "      <th>label</th>\n",
       "    </tr>\n",
       "  </thead>\n",
       "  <tbody>\n",
       "    <tr>\n",
       "      <th>0</th>\n",
       "      <td>'임창정표 발라드' 사랑 이유? 솔직담백함 때문 아닐까!  (종합)</td>\n",
       "      <td>7</td>\n",
       "    </tr>\n",
       "    <tr>\n",
       "      <th>1</th>\n",
       "      <td>남자들이 어떤 사랑을 하고 시간이 지나서 느낄 수 있는 미안함을 솔직담백하게 서술형...</td>\n",
       "      <td>7</td>\n",
       "    </tr>\n",
       "    <tr>\n",
       "      <th>2</th>\n",
       "      <td>임창정  시적이지 않은 솔직담백함이 제 노래 인기비결</td>\n",
       "      <td>7</td>\n",
       "    </tr>\n",
       "    <tr>\n",
       "      <th>3</th>\n",
       "      <td>그는  어떤 사랑을 했을 때 시간이 지나 누구나 다 느낄 수 있는 미안함을 솔직담백...</td>\n",
       "      <td>7</td>\n",
       "    </tr>\n",
       "    <tr>\n",
       "      <th>4</th>\n",
       "      <td>우린 무슨 사이야 그냥 일하는 건가? ..'우다사3' 현우 솔직 심경 고백→♥지주...</td>\n",
       "      <td>7</td>\n",
       "    </tr>\n",
       "  </tbody>\n",
       "</table>\n",
       "</div>"
      ],
      "text/plain": [
       "                                            sentence  label\n",
       "0              '임창정표 발라드' 사랑 이유? 솔직담백함 때문 아닐까!  (종합)      7\n",
       "1  남자들이 어떤 사랑을 하고 시간이 지나서 느낄 수 있는 미안함을 솔직담백하게 서술형...      7\n",
       "2                     임창정  시적이지 않은 솔직담백함이 제 노래 인기비결       7\n",
       "3  그는  어떤 사랑을 했을 때 시간이 지나 누구나 다 느낄 수 있는 미안함을 솔직담백...      7\n",
       "4   우린 무슨 사이야 그냥 일하는 건가? ..'우다사3' 현우 솔직 심경 고백→♥지주...      7"
      ]
     },
     "execution_count": 11,
     "metadata": {},
     "output_type": "execute_result"
    }
   ],
   "source": [
    "a7 = pd.DataFrame(ability_7[\"sentence\"])\n",
    "a7[\"label\"] = 7\n",
    "a7.head()"
   ]
  },
  {
   "cell_type": "code",
   "execution_count": 12,
   "metadata": {},
   "outputs": [
    {
     "data": {
      "text/html": [
       "<div>\n",
       "<style scoped>\n",
       "    .dataframe tbody tr th:only-of-type {\n",
       "        vertical-align: middle;\n",
       "    }\n",
       "\n",
       "    .dataframe tbody tr th {\n",
       "        vertical-align: top;\n",
       "    }\n",
       "\n",
       "    .dataframe thead th {\n",
       "        text-align: right;\n",
       "    }\n",
       "</style>\n",
       "<table border=\"1\" class=\"dataframe\">\n",
       "  <thead>\n",
       "    <tr style=\"text-align: right;\">\n",
       "      <th></th>\n",
       "      <th>sentence</th>\n",
       "      <th>label</th>\n",
       "    </tr>\n",
       "  </thead>\n",
       "  <tbody>\n",
       "    <tr>\n",
       "      <th>0</th>\n",
       "      <td>삼성전자  뉴노멀 시대 주도할 소프트웨어 인재 여기에 … SSAFY 5기 모집</td>\n",
       "      <td>8</td>\n",
       "    </tr>\n",
       "    <tr>\n",
       "      <th>1</th>\n",
       "      <td>1학기에는 알고리즘 기반의 몰입형 코딩 교육을 받아 기본기를 다지고 2학기에는 프로...</td>\n",
       "      <td>8</td>\n",
       "    </tr>\n",
       "    <tr>\n",
       "      <th>2</th>\n",
       "      <td>'자기계발 무료교육' 보육교사·육아종합지원센터 관련 취업돕는 심리상담사자격증</td>\n",
       "      <td>8</td>\n",
       "    </tr>\n",
       "    <tr>\n",
       "      <th>3</th>\n",
       "      <td>학습관련 자격과정으로는 스스로 공부하는 법을 배울 수 있는 자기주도학습지도사자격증 ...</td>\n",
       "      <td>8</td>\n",
       "    </tr>\n",
       "    <tr>\n",
       "      <th>4</th>\n",
       "      <td>대구시교육청  코로나19 대응 블렌디드 러닝으로 사고하고 탐구하는 학생주도수업을 위...</td>\n",
       "      <td>8</td>\n",
       "    </tr>\n",
       "  </tbody>\n",
       "</table>\n",
       "</div>"
      ],
      "text/plain": [
       "                                            sentence  label\n",
       "0        삼성전자  뉴노멀 시대 주도할 소프트웨어 인재 여기에 … SSAFY 5기 모집      8\n",
       "1  1학기에는 알고리즘 기반의 몰입형 코딩 교육을 받아 기본기를 다지고 2학기에는 프로...      8\n",
       "2         '자기계발 무료교육' 보육교사·육아종합지원센터 관련 취업돕는 심리상담사자격증      8\n",
       "3  학습관련 자격과정으로는 스스로 공부하는 법을 배울 수 있는 자기주도학습지도사자격증 ...      8\n",
       "4  대구시교육청  코로나19 대응 블렌디드 러닝으로 사고하고 탐구하는 학생주도수업을 위...      8"
      ]
     },
     "execution_count": 12,
     "metadata": {},
     "output_type": "execute_result"
    }
   ],
   "source": [
    "a8 = pd.DataFrame(ability_8[\"sentence\"])\n",
    "a8[\"label\"] = 8\n",
    "a8.head()"
   ]
  },
  {
   "cell_type": "code",
   "execution_count": 13,
   "metadata": {},
   "outputs": [
    {
     "data": {
      "text/html": [
       "<div>\n",
       "<style scoped>\n",
       "    .dataframe tbody tr th:only-of-type {\n",
       "        vertical-align: middle;\n",
       "    }\n",
       "\n",
       "    .dataframe tbody tr th {\n",
       "        vertical-align: top;\n",
       "    }\n",
       "\n",
       "    .dataframe thead th {\n",
       "        text-align: right;\n",
       "    }\n",
       "</style>\n",
       "<table border=\"1\" class=\"dataframe\">\n",
       "  <thead>\n",
       "    <tr style=\"text-align: right;\">\n",
       "      <th></th>\n",
       "      <th>sentence</th>\n",
       "      <th>label</th>\n",
       "    </tr>\n",
       "  </thead>\n",
       "  <tbody>\n",
       "    <tr>\n",
       "      <th>0</th>\n",
       "      <td>독창적 외관·고성능 감성…제네시스 ‘더 뉴 G70’ 출시</td>\n",
       "      <td>9</td>\n",
       "    </tr>\n",
       "    <tr>\n",
       "      <th>1</th>\n",
       "      <td>제네시스의 중형 스포츠 세단 ‘G70’가 새로운 얼굴로 돌아왔다. 제네시스 브랜드는...</td>\n",
       "      <td>9</td>\n",
       "    </tr>\n",
       "    <tr>\n",
       "      <th>2</th>\n",
       "      <td>독창적인 조리법 특허 최근 4년간 1450건 등록</td>\n",
       "      <td>9</td>\n",
       "    </tr>\n",
       "    <tr>\n",
       "      <th>3</th>\n",
       "      <td>조리법으로 독창성이 인정되는 경우 특허를 받을 수 있다 고 밝혔다. 또  이미 공개...</td>\n",
       "      <td>9</td>\n",
       "    </tr>\n",
       "    <tr>\n",
       "      <th>4</th>\n",
       "      <td>[문화가소식] 소프라노 신은선 독창회 외</td>\n",
       "      <td>9</td>\n",
       "    </tr>\n",
       "  </tbody>\n",
       "</table>\n",
       "</div>"
      ],
      "text/plain": [
       "                                            sentence  label\n",
       "0                    독창적 외관·고성능 감성…제네시스 ‘더 뉴 G70’ 출시      9\n",
       "1  제네시스의 중형 스포츠 세단 ‘G70’가 새로운 얼굴로 돌아왔다. 제네시스 브랜드는...      9\n",
       "2                        독창적인 조리법 특허 최근 4년간 1450건 등록      9\n",
       "3  조리법으로 독창성이 인정되는 경우 특허를 받을 수 있다 고 밝혔다. 또  이미 공개...      9\n",
       "4                             [문화가소식] 소프라노 신은선 독창회 외      9"
      ]
     },
     "execution_count": 13,
     "metadata": {},
     "output_type": "execute_result"
    }
   ],
   "source": [
    "a9 = pd.DataFrame(ability_9[\"sentence\"])\n",
    "a9[\"label\"] = 9\n",
    "a9.head()"
   ]
  },
  {
   "cell_type": "code",
   "execution_count": 14,
   "metadata": {},
   "outputs": [
    {
     "data": {
      "text/html": [
       "<div>\n",
       "<style scoped>\n",
       "    .dataframe tbody tr th:only-of-type {\n",
       "        vertical-align: middle;\n",
       "    }\n",
       "\n",
       "    .dataframe tbody tr th {\n",
       "        vertical-align: top;\n",
       "    }\n",
       "\n",
       "    .dataframe thead th {\n",
       "        text-align: right;\n",
       "    }\n",
       "</style>\n",
       "<table border=\"1\" class=\"dataframe\">\n",
       "  <thead>\n",
       "    <tr style=\"text-align: right;\">\n",
       "      <th></th>\n",
       "      <th>sentence</th>\n",
       "      <th>label</th>\n",
       "    </tr>\n",
       "  </thead>\n",
       "  <tbody>\n",
       "    <tr>\n",
       "      <th>0</th>\n",
       "      <td>대구경북로컬푸드 전국 첫 이종협동조합연합회 인가</td>\n",
       "      <td>10</td>\n",
       "    </tr>\n",
       "    <tr>\n",
       "      <th>1</th>\n",
       "      <td>대구경북로컬푸드이종협동조합연합회는 기획재정부로부터 전국 첫 이종협동조합연합회 설립 ...</td>\n",
       "      <td>10</td>\n",
       "    </tr>\n",
       "    <tr>\n",
       "      <th>2</th>\n",
       "      <td>진주축산업협동조합 축산물·난방유 나눔</td>\n",
       "      <td>10</td>\n",
       "    </tr>\n",
       "    <tr>\n",
       "      <th>3</th>\n",
       "      <td>진주축산업협동조합(조합장 조양수)은 19일 농협중앙회 진주시지부 ㈔나눔축산운동본부 ...</td>\n",
       "      <td>10</td>\n",
       "    </tr>\n",
       "    <tr>\n",
       "      <th>4</th>\n",
       "      <td>브릿지협동조합 '사회적경제기업 B2G 영업 전략' 교육</td>\n",
       "      <td>10</td>\n",
       "    </tr>\n",
       "  </tbody>\n",
       "</table>\n",
       "</div>"
      ],
      "text/plain": [
       "                                            sentence  label\n",
       "0                         대구경북로컬푸드 전국 첫 이종협동조합연합회 인가     10\n",
       "1  대구경북로컬푸드이종협동조합연합회는 기획재정부로부터 전국 첫 이종협동조합연합회 설립 ...     10\n",
       "2                               진주축산업협동조합 축산물·난방유 나눔     10\n",
       "3  진주축산업협동조합(조합장 조양수)은 19일 농협중앙회 진주시지부 ㈔나눔축산운동본부 ...     10\n",
       "4                     브릿지협동조합 '사회적경제기업 B2G 영업 전략' 교육     10"
      ]
     },
     "execution_count": 14,
     "metadata": {},
     "output_type": "execute_result"
    }
   ],
   "source": [
    "a10 = pd.DataFrame(ability_10[\"sentence\"])\n",
    "a10[\"label\"] = 10\n",
    "a10.head()"
   ]
  },
  {
   "cell_type": "code",
   "execution_count": 15,
   "metadata": {},
   "outputs": [],
   "source": [
    "data = a1.append(a2).append(a3).append(a4).append(a5).append(a6).append(a7).append(a8).append(a9).append(a10)\n",
    "\n"
   ]
  },
  {
   "cell_type": "code",
   "execution_count": 16,
   "metadata": {},
   "outputs": [
    {
     "data": {
      "text/plain": [
       "(2000, 2)"
      ]
     },
     "execution_count": 16,
     "metadata": {},
     "output_type": "execute_result"
    }
   ],
   "source": [
    "data.shape\n"
   ]
  },
  {
   "cell_type": "code",
   "execution_count": 17,
   "metadata": {},
   "outputs": [],
   "source": [
    "import numpy as np\n",
    "from sklearn.model_selection import train_test_split"
   ]
  },
  {
   "cell_type": "code",
   "execution_count": 18,
   "metadata": {},
   "outputs": [],
   "source": [
    "train, test = train_test_split(data, test_size=0.2, random_state=42)"
   ]
  },
  {
   "cell_type": "code",
   "execution_count": 19,
   "metadata": {},
   "outputs": [
    {
     "name": "stderr",
     "output_type": "stream",
     "text": [
      "<ipython-input-19-da4c400a24e1>:1: SettingWithCopyWarning: \n",
      "A value is trying to be set on a copy of a slice from a DataFrame.\n",
      "Try using .loc[row_indexer,col_indexer] = value instead\n",
      "\n",
      "See the caveats in the documentation: https://pandas.pydata.org/pandas-docs/stable/user_guide/indexing.html#returning-a-view-versus-a-copy\n",
      "  train[\"label\"] = pd.Categorical(train[\"label\"])\n"
     ]
    }
   ],
   "source": [
    "train[\"label\"] = pd.Categorical(train[\"label\"])"
   ]
  },
  {
   "cell_type": "code",
   "execution_count": 20,
   "metadata": {},
   "outputs": [
    {
     "data": {
      "text/html": [
       "<div>\n",
       "<style scoped>\n",
       "    .dataframe tbody tr th:only-of-type {\n",
       "        vertical-align: middle;\n",
       "    }\n",
       "\n",
       "    .dataframe tbody tr th {\n",
       "        vertical-align: top;\n",
       "    }\n",
       "\n",
       "    .dataframe thead th {\n",
       "        text-align: right;\n",
       "    }\n",
       "</style>\n",
       "<table border=\"1\" class=\"dataframe\">\n",
       "  <thead>\n",
       "    <tr style=\"text-align: right;\">\n",
       "      <th></th>\n",
       "      <th>sentence</th>\n",
       "    </tr>\n",
       "    <tr>\n",
       "      <th>label</th>\n",
       "      <th></th>\n",
       "    </tr>\n",
       "  </thead>\n",
       "  <tbody>\n",
       "    <tr>\n",
       "      <th>1</th>\n",
       "      <td>164</td>\n",
       "    </tr>\n",
       "    <tr>\n",
       "      <th>2</th>\n",
       "      <td>153</td>\n",
       "    </tr>\n",
       "    <tr>\n",
       "      <th>3</th>\n",
       "      <td>154</td>\n",
       "    </tr>\n",
       "    <tr>\n",
       "      <th>4</th>\n",
       "      <td>164</td>\n",
       "    </tr>\n",
       "    <tr>\n",
       "      <th>5</th>\n",
       "      <td>166</td>\n",
       "    </tr>\n",
       "    <tr>\n",
       "      <th>6</th>\n",
       "      <td>166</td>\n",
       "    </tr>\n",
       "    <tr>\n",
       "      <th>7</th>\n",
       "      <td>167</td>\n",
       "    </tr>\n",
       "    <tr>\n",
       "      <th>8</th>\n",
       "      <td>156</td>\n",
       "    </tr>\n",
       "    <tr>\n",
       "      <th>9</th>\n",
       "      <td>152</td>\n",
       "    </tr>\n",
       "    <tr>\n",
       "      <th>10</th>\n",
       "      <td>158</td>\n",
       "    </tr>\n",
       "  </tbody>\n",
       "</table>\n",
       "</div>"
      ],
      "text/plain": [
       "       sentence\n",
       "label          \n",
       "1           164\n",
       "2           153\n",
       "3           154\n",
       "4           164\n",
       "5           166\n",
       "6           166\n",
       "7           167\n",
       "8           156\n",
       "9           152\n",
       "10          158"
      ]
     },
     "execution_count": 20,
     "metadata": {},
     "output_type": "execute_result"
    }
   ],
   "source": [
    "train.groupby(\"label\").count()"
   ]
  },
  {
   "cell_type": "code",
   "execution_count": 21,
   "metadata": {
    "scrolled": true
   },
   "outputs": [
    {
     "data": {
      "text/html": [
       "<div>\n",
       "<style scoped>\n",
       "    .dataframe tbody tr th:only-of-type {\n",
       "        vertical-align: middle;\n",
       "    }\n",
       "\n",
       "    .dataframe tbody tr th {\n",
       "        vertical-align: top;\n",
       "    }\n",
       "\n",
       "    .dataframe thead th {\n",
       "        text-align: right;\n",
       "    }\n",
       "</style>\n",
       "<table border=\"1\" class=\"dataframe\">\n",
       "  <thead>\n",
       "    <tr style=\"text-align: right;\">\n",
       "      <th></th>\n",
       "      <th>sentence</th>\n",
       "    </tr>\n",
       "    <tr>\n",
       "      <th>label</th>\n",
       "      <th></th>\n",
       "    </tr>\n",
       "  </thead>\n",
       "  <tbody>\n",
       "    <tr>\n",
       "      <th>1</th>\n",
       "      <td>36</td>\n",
       "    </tr>\n",
       "    <tr>\n",
       "      <th>2</th>\n",
       "      <td>47</td>\n",
       "    </tr>\n",
       "    <tr>\n",
       "      <th>3</th>\n",
       "      <td>46</td>\n",
       "    </tr>\n",
       "    <tr>\n",
       "      <th>4</th>\n",
       "      <td>36</td>\n",
       "    </tr>\n",
       "    <tr>\n",
       "      <th>5</th>\n",
       "      <td>34</td>\n",
       "    </tr>\n",
       "    <tr>\n",
       "      <th>6</th>\n",
       "      <td>33</td>\n",
       "    </tr>\n",
       "    <tr>\n",
       "      <th>7</th>\n",
       "      <td>33</td>\n",
       "    </tr>\n",
       "    <tr>\n",
       "      <th>8</th>\n",
       "      <td>44</td>\n",
       "    </tr>\n",
       "    <tr>\n",
       "      <th>9</th>\n",
       "      <td>48</td>\n",
       "    </tr>\n",
       "    <tr>\n",
       "      <th>10</th>\n",
       "      <td>42</td>\n",
       "    </tr>\n",
       "  </tbody>\n",
       "</table>\n",
       "</div>"
      ],
      "text/plain": [
       "       sentence\n",
       "label          \n",
       "1            36\n",
       "2            47\n",
       "3            46\n",
       "4            36\n",
       "5            34\n",
       "6            33\n",
       "7            33\n",
       "8            44\n",
       "9            48\n",
       "10           42"
      ]
     },
     "execution_count": 21,
     "metadata": {},
     "output_type": "execute_result"
    }
   ],
   "source": [
    "test.groupby(\"label\").count()"
   ]
  },
  {
   "cell_type": "code",
   "execution_count": 22,
   "metadata": {},
   "outputs": [
    {
     "ename": "ModuleNotFoundError",
     "evalue": "No module named 'konlpy'",
     "output_type": "error",
     "traceback": [
      "\u001b[1;31m---------------------------------------------------------------------------\u001b[0m",
      "\u001b[1;31mModuleNotFoundError\u001b[0m                       Traceback (most recent call last)",
      "\u001b[1;32m<ipython-input-22-098ad17cf42e>\u001b[0m in \u001b[0;36m<module>\u001b[1;34m\u001b[0m\n\u001b[1;32m----> 1\u001b[1;33m \u001b[1;32mfrom\u001b[0m \u001b[0mkonlpy\u001b[0m\u001b[1;33m.\u001b[0m\u001b[0mtag\u001b[0m \u001b[1;32mimport\u001b[0m \u001b[0mTwitter\u001b[0m\u001b[1;33m\u001b[0m\u001b[1;33m\u001b[0m\u001b[0m\n\u001b[0m\u001b[0;32m      2\u001b[0m \u001b[1;32mfrom\u001b[0m \u001b[0msklearn\u001b[0m\u001b[1;33m.\u001b[0m\u001b[0mfeature_extraction\u001b[0m\u001b[1;33m.\u001b[0m\u001b[0mtext\u001b[0m \u001b[1;32mimport\u001b[0m \u001b[0mCountVectorizer\u001b[0m\u001b[1;33m\u001b[0m\u001b[1;33m\u001b[0m\u001b[0m\n",
      "\u001b[1;31mModuleNotFoundError\u001b[0m: No module named 'konlpy'"
     ]
    }
   ],
   "source": [
    "from konlpy.tag import Twitter\n",
    "from sklearn.feature_extraction.text import CountVectorizer"
   ]
  },
  {
   "cell_type": "code",
   "execution_count": 138,
   "metadata": {},
   "outputs": [],
   "source": [
    "def get_noun(text):\n",
    "    tokenizer = Twitter()\n",
    "    nouns = tokenizer.nouns(text)\n",
    "    return [n for n in nouns]"
   ]
  },
  {
   "cell_type": "code",
   "execution_count": 139,
   "metadata": {},
   "outputs": [],
   "source": [
    "cv = CountVectorizer(tokenizer=get_noun,stop_words=None, ngram_range=(1, 2))"
   ]
  },
  {
   "cell_type": "code",
   "execution_count": null,
   "metadata": {},
   "outputs": [],
   "source": [
    "tdm = cv.fit_transform(train[\"sentence\"])"
   ]
  },
  {
   "cell_type": "code",
   "execution_count": 99,
   "metadata": {},
   "outputs": [
    {
     "name": "stderr",
     "output_type": "stream",
     "text": [
      "/Library/Frameworks/Python.framework/Versions/3.7/lib/python3.7/site-packages/sklearn/linear_model/stochastic_gradient.py:152: DeprecationWarning: n_iter parameter is deprecated in 0.19 and will be removed in 0.21. Use max_iter and tol instead.\n",
      "  DeprecationWarning)\n"
     ]
    }
   ],
   "source": [
    "from sklearn.feature_extraction.text import CountVectorizer\n",
    "from sklearn.feature_extraction.text import TfidfTransformer\n",
    "from sklearn.linear_model import SGDClassifier\n",
    "from sklearn.pipeline import Pipeline\n",
    "\n",
    "text_clf_svm = Pipeline([('vect', CountVectorizer(tokenizer=get_noun)),\n",
    "                         ('tfidf', TfidfTransformer()),\n",
    "                         ('clf-svm', SGDClassifier(loss='hinge', penalty='l2', alpha=1e-3, n_iter=5, random_state=42))])\n",
    "\n",
    "text_clf_svm = text_clf_svm.fit(train[\"sentence\"], train[\"label\"])\n"
   ]
  },
  {
   "cell_type": "code",
   "execution_count": null,
   "metadata": {},
   "outputs": [],
   "source": [
    "predicted_svm = text_clf_svm.predict(test[\"sentence\"])\n",
    "np.mean(predicted_svm == test[\"label\"])"
   ]
  },
  {
   "cell_type": "code",
   "execution_count": null,
   "metadata": {},
   "outputs": [],
   "source": [
    "print(type(predicted_svm))"
   ]
  },
  {
   "cell_type": "code",
   "execution_count": null,
   "metadata": {},
   "outputs": [],
   "source": [
    "text_clf_svm.predict([\"[창조는 메모에서 비롯된다] 평소에 이런저런 생각을 메모하는 습관이 있습니다. 이 습관은 인턴활동을 할 때 많은 도움이 되었습니다. 인턴 교육당시에 업무 중에 포스터 기획을 하는 업무도 있다는 말씀을 해 주셨습니다. 그 후에 제품에 대한 교육이 이뤄졌습니다. 제품에 대한 장점들을 기준을 세워 메모를 하였습니다. 그 후 장소에 구애받지 않고 제품의 장점 그리고 시즈널 키워드를 활용하여 아이디어를 메모했습니다. 제품 중에 닭죽이 있었는데, 그 죽의 효능이 수능생들에 매우 많은 도움이 되는 것들이었습니다. 그래서 저는 수능 시즌에 맞춘 아이디어를 제공하여 닭죽을 먹으면 이 죽을 먹으며 죽빵을 날리는 것 처럼 문제를 한방 먹인다는 컨셉으로 포스터를 기획했습니다. 이 포스터로 흥미을 유발하여 고객층의 소비를 이끌었던 적 있습니다.\"])\n",
    "print (text_clf_svm.decision_function([\"평소에 이런저런 생각을 메모하는 습관이 있습니다. 이 습관은 인턴활동을 할 때 많은 도움이 되었습니다. 인턴 교육당시에 업무 중에 포스터 기획을 하는 업무도 있다는 말씀을 해 주셨습니다. 그 후에 제품에 대한 교육이 이뤄졌습니다. 제품에 대한 장점들을 기준을 세워 메모를 하였습니다. 그 후 장소에 구애받지 않고 제품의 장점 그리고 시즈널 키워드를 활용하여 아이디어를 메모했습니다. 제품 중에 닭죽이 있었는데, 그 죽의 효능이 수능생들에 매우 많은 도움이 되는 것들이었습니다. 그래서 저는 수능 시즌에 맞춘 아이디어를 제공하여 닭죽을 먹으면 이 죽을 먹으며 죽빵을 날리는 것 처럼 문제를 한방 먹인다는 컨셉으로 포스터를 기획했습니다. 이 포스터로 흥미을 유발하여 고객층의 소비를 이끌었던 적 있습니다.\"]))\n",
    "\n",
    "#[창조는 메모에서 비롯된다] 포함해서 돌리면 확실히 창의 역량의 값이 커짐\n",
    "#제외해서 돌려도 제일 크긴함\n"
   ]
  },
  {
   "cell_type": "code",
   "execution_count": null,
   "metadata": {},
   "outputs": [],
   "source": [
    "text_clf_svm.predict([\"지원동기:지원동기를구체적으로기술해주세요\\n[새로운 도전을 통해 성장하는 사람]\\n롯데 e커머스에서 보이스커머스 사업을 내년 상반기에 상용화할 것이라는 계획을 접하게 되었습니다. 보이스커머스의 핵심 기술 중 하나는 바로 STT 입니다. 저는 000 프로젝트에서 STT 기술을 이용해 000을 제공하는 앱을 개발하였습니다. 이를 통해 STT 기술에 대한 이해와 중요성을 배울 수 있었습니다. 이때의 경험이 롯데 e커머스의 프로그래밍 직무를 수행하는 데 도움이 될 것이라 생각합니다.\\n저의 목표 IT 기술을 통해 사람들의 생활을 보다 편리하게 만드는 것입니다. 롯데 e커머스에서는 보이스커머스 뿐만 아니라 사만다 톡추천, 쇼바시, 스마트픽 등 고객들에게 편리한 서비스 제공을 위해 큰 노력을 하고 있습니다. 고객의 생활을 더욱 편리하게 만든다는 것이 제가 추구하는 바와 같다고 생각합니다. 그리고 SSO 시스템을 통해 새롭게 도약하는 롯데 e커머스와 함께 하고 싶기에 지원하게 되었습니다.\\n성장과정:성장과정을구체적으로기술해주세요.[새로운 도전을 통해 성장하는 사람]\\n경험을 통해 배움을 얻을 수 있다는 생각을 가지고 있습니다. 그래서 도전할 기회가 생기면 주저하지 않고 참여하였습니 다.\\n첫째, IT 관련해서 2회 인턴 경험과 다양한 개발 프로젝트 경험을 가지고 있습니다.\\n3학년 재학 중 웹에이전시 기획팀 인턴에 참여할 수 있는 기회가 주어졌습니다. 인턴을 하며 기획, 디자인, 개발 교육을 받았고 다양한 프로젝트를 수행하였습니다. 이를 통해 프로젝트 진행 과정과 협력을 배울 수 있었습니다. 또한, 재학 중 다양한 개발 프로젝트를 진행하였습니다. 참여에 그치는 것이 아니라 공모전 출품, 정보처리학회 추계학술대회 참여 등 도전을 확장해나갔습니다.\\n둘째, IT 매니저 업무를 통해 실무를 익히다.\\n3개월 동안 진학 컨설팅 센터에서 근무한 경험이 있습니다. 1달도 채 남지 않은 오픈 날짜까지 웹 개편부터 SNS 관리를 요청받았습니다. 하지만 IT 매니저는 저뿐이고, 센터 내에 IT 업무에 대해 아는 분이 없는 상황이었습니다. 그래서 웹 개발 부터 SNS 홍보 방식까지 모두 알아보았습니다. 먼저 외주업체를 선정해 퍼블리싱을 요청하였고, 퍼블리싱된 소스 코드에Javascript 코드를 추가하는 방식으로 웹 개편을 하였습니다. 그리고 블로그, 인스타, 페이스북에 센터 자료를 제작해 업로드 하였고, 페이스북 광고를 진행하는 등 다양한 매체를 통해 홍보하였습니다. 그 결과 오픈 날짜에 맞춰 성공적으로 홈페이지 개편과 홍보를 할 수 있었습니다. 포기하지 않고 도전한 다양한 경험을 바탕으로 롯데 e커머스에서도 적극적인 업무자세를 보여드리겠습니다.\\n입사후포부:입사후10년동안의회사생활시나리오와그것을추구하는이유를기술해주세요.\\n[오늘보다 내일 더 성장하는 사람]\\n먼저 입사 후 롯데 e커머스의 프로젝트 진행 과정을 파악하고 이해하겠습니다. 그리고 이를 토대로 내년 상반기 오픈 예정인 투게더 앱에 대해 고민하는 신입사원이 되겠습니다. 그리고 빅데이터를 잘 다룰 수 있도록 공부하고, DBA 자격증을 취득해 전문성을 갖추겠습니다.\\n5년 후, 고객별 맞춤형 추천 시스템을이 도입될 수 있도록 하겠습니다. 유튜브 사용자 맞춤 동영상 추천처럼 맞춤 추천 시스템은 다양한 기업에서 사용하고 있습니다. 롯데 e커머스에도 적용되어 고객마다 다른 추천 상품을 볼 있도록 하고, 이를 통해 편리성과 매출 증대를 이룰 수 있도록 하겠습니다.\\n10년 후, 업계를 선도하는 롯데 e커머스의 프로젝트 매니저로 성장하여 인공지능, 빅데이터를 활용해 추천을 넘어 고객의 삶에 필수적인 서비스를 기획하고 개발하겠습니다. 지나온 10년을 설하고, 앞으로의 10년을 준비하겠습니다. 그리고 오늘 보다 내일 더 성장하는 롯데 e커머스의 일원이 되겠습니다.\"])\n",
    "print (text_clf_svm.decision_function([\"지원동기:지원동기를구체적으로기술해주세요\\n[새로운 도전을 통해 성장하는 사람]\\n롯데 e커머스에서 보이스커머스 사업을 내년 상반기에 상용화할 것이라는 계획을 접하게 되었습니다. 보이스커머스의 핵심 기술 중 하나는 바로 STT 입니다. 저는 000 프로젝트에서 STT 기술을 이용해 000을 제공하는 앱을 개발하였습니다. 이를 통해 STT 기술에 대한 이해와 중요성을 배울 수 있었습니다. 이때의 경험이 롯데 e커머스의 프로그래밍 직무를 수행하는 데 도움이 될 것이라 생각합니다.\\n저의 목표 IT 기술을 통해 사람들의 생활을 보다 편리하게 만드는 것입니다. 롯데 e커머스에서는 보이스커머스 뿐만 아니라 사만다 톡추천, 쇼바시, 스마트픽 등 고객들에게 편리한 서비스 제공을 위해 큰 노력을 하고 있습니다. 고객의 생활을 더욱 편리하게 만든다는 것이 제가 추구하는 바와 같다고 생각합니다. 그리고 SSO 시스템을 통해 새롭게 도약하는 롯데 e커머스와 함께 하고 싶기에 지원하게 되었습니다.\\n성장과정:성장과정을구체적으로기술해주세요.[새로운 도전을 통해 성장하는 사람]\\n경험을 통해 배움을 얻을 수 있다는 생각을 가지고 있습니다. 그래서 도전할 기회가 생기면 주저하지 않고 참여하였습니 다.\\n첫째, IT 관련해서 2회 인턴 경험과 다양한 개발 프로젝트 경험을 가지고 있습니다.\\n3학년 재학 중 웹에이전시 기획팀 인턴에 참여할 수 있는 기회가 주어졌습니다. 인턴을 하며 기획, 디자인, 개발 교육을 받았고 다양한 프로젝트를 수행하였습니다. 이를 통해 프로젝트 진행 과정과 협력을 배울 수 있었습니다. 또한, 재학 중 다양한 개발 프로젝트를 진행하였습니다. 참여에 그치는 것이 아니라 공모전 출품, 정보처리학회 추계학술대회 참여 등 도전을 확장해나갔습니다.\\n둘째, IT 매니저 업무를 통해 실무를 익히다.\\n3개월 동안 진학 컨설팅 센터에서 근무한 경험이 있습니다. 1달도 채 남지 않은 오픈 날짜까지 웹 개편부터 SNS 관리를 요청받았습니다. 하지만 IT 매니저는 저뿐이고, 센터 내에 IT 업무에 대해 아는 분이 없는 상황이었습니다. 그래서 웹 개발 부터 SNS 홍보 방식까지 모두 알아보았습니다. 먼저 외주업체를 선정해 퍼블리싱을 요청하였고, 퍼블리싱된 소스 코드에Javascript 코드를 추가하는 방식으로 웹 개편을 하였습니다. 그리고 블로그, 인스타, 페이스북에 센터 자료를 제작해 업로드 하였고, 페이스북 광고를 진행하는 등 다양한 매체를 통해 홍보하였습니다. 그 결과 오픈 날짜에 맞춰 성공적으로 홈페이지 개편과 홍보를 할 수 있었습니다. 포기하지 않고 도전한 다양한 경험을 바탕으로 롯데 e커머스에서도 적극적인 업무자세를 보여드리겠습니다.\\n입사후포부:입사후10년동안의회사생활시나리오와그것을추구하는이유를기술해주세요.\\n[오늘보다 내일 더 성장하는 사람]\\n먼저 입사 후 롯데 e커머스의 프로젝트 진행 과정을 파악하고 이해하겠습니다. 그리고 이를 토대로 내년 상반기 오픈 예정인 투게더 앱에 대해 고민하는 신입사원이 되겠습니다. 그리고 빅데이터를 잘 다룰 수 있도록 공부하고, DBA 자격증을 취득해 전문성을 갖추겠습니다.\\n5년 후, 고객별 맞춤형 추천 시스템을이 도입될 수 있도록 하겠습니다. 유튜브 사용자 맞춤 동영상 추천처럼 맞춤 추천 시스템은 다양한 기업에서 사용하고 있습니다. 롯데 e커머스에도 적용되어 고객마다 다른 추천 상품을 볼 있도록 하고, 이를 통해 편리성과 매출 증대를 이룰 수 있도록 하겠습니다.\\n10년 후, 업계를 선도하는 롯데 e커머스의 프로젝트 매니저로 성장하여 인공지능, 빅데이터를 활용해 추천을 넘어 고객의 삶에 필수적인 서비스를 기획하고 개발하겠습니다. 지나온 10년을 설하고, 앞으로의 10년을 준비하겠습니다. 그리고 오늘 보다 내일 더 성장하는 롯데 e커머스의 일원이 되겠습니다.\"]))"
   ]
  },
  {
   "cell_type": "code",
   "execution_count": null,
   "metadata": {},
   "outputs": [],
   "source": [
    "#모델 저장하기\n",
    "from sklearn.linear_model import LogisticRegression\n",
    "from sklearn import datasets\n",
    "import pickle\n",
    "from sklearn.externals import joblib"
   ]
  },
  {
   "cell_type": "code",
   "execution_count": null,
   "metadata": {},
   "outputs": [],
   "source": [
    "joblib.dump(text_clf_svm, 'svm_clf_model.pkl') #피클 파일로 모델 저장"
   ]
  },
  {
   "cell_type": "code",
   "execution_count": null,
   "metadata": {},
   "outputs": [],
   "source": [
    "clf_from_joblib = joblib.load('svm_clf_model.pkl')\n",
    "\n",
    "#모델이 올바르게 저장됐는지 확인해보기\n",
    "no_save = text_clf_svm.decision_function([\"저는 열정적인 사람입니다\"])\n",
    "save = clf_from_joblib.decision_function([\"저는 열정적인 사람입니다\"])\n",
    "\n",
    "print(no_save == save)"
   ]
  },
  {
   "cell_type": "code",
   "execution_count": null,
   "metadata": {},
   "outputs": [],
   "source": []
  },
  {
   "cell_type": "code",
   "execution_count": null,
   "metadata": {},
   "outputs": [],
   "source": []
  },
  {
   "cell_type": "code",
   "execution_count": null,
   "metadata": {},
   "outputs": [],
   "source": []
  },
  {
   "cell_type": "code",
   "execution_count": null,
   "metadata": {},
   "outputs": [],
   "source": []
  },
  {
   "cell_type": "code",
   "execution_count": null,
   "metadata": {},
   "outputs": [],
   "source": []
  }
 ],
 "metadata": {
  "kernelspec": {
   "display_name": "Python 3",
   "language": "python",
   "name": "python3"
  },
  "language_info": {
   "codemirror_mode": {
    "name": "ipython",
    "version": 3
   },
   "file_extension": ".py",
   "mimetype": "text/x-python",
   "name": "python",
   "nbconvert_exporter": "python",
   "pygments_lexer": "ipython3",
   "version": "3.8.3"
  }
 },
 "nbformat": 4,
 "nbformat_minor": 2
}
